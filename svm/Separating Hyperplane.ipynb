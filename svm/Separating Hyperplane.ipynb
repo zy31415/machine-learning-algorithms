{
 "cells": [
  {
   "cell_type": "markdown",
   "metadata": {},
   "source": [
    "This is a notebook demonstrate the Separating Hyperlane methods, which is a simple and intuitive classification method described in Chapter 4 of the Elements of Statistical Learning by Hastie et al.\n",
    "\n",
    "Test 1 is the case where the initial values are all ones.\n",
    "\n",
    "Test 2 is the case where the initial values are randomly generated.\n",
    "\n",
    "The Separating Hyperplane method contains the fundamental idea for Support Vector Machines."
   ]
  },
  {
   "cell_type": "code",
   "execution_count": 1,
   "metadata": {},
   "outputs": [],
   "source": [
    "import numpy as np\n",
    "from separating_hyperplane import SeparatingHyperplane"
   ]
  },
  {
   "cell_type": "code",
   "execution_count": 2,
   "metadata": {},
   "outputs": [
    {
     "data": {
      "text/plain": [
       "[1, -2.0, 1.0, 3.0]"
      ]
     },
     "execution_count": 2,
     "metadata": {},
     "output_type": "execute_result"
    }
   ],
   "source": [
    "# Test Case 1\n",
    "\n",
    "X = np.asarray([\n",
    "    [0, 0],\n",
    "    [1, 0],\n",
    "    [0, 1],\n",
    "    [2, 1],\n",
    "    [2, 2],\n",
    "    [1, 2]], dtype=float)\n",
    "\n",
    "Y = np.asarray([1, 1, 1, -1, -1, -1], dtype=int).reshape([-1, 1])\n",
    "\n",
    "fitter = SeparatingHyperplane()\n",
    "\n",
    "beta, beta0 = fitter.fit(X, Y)\n",
    "\n",
    "fitter.betas\n",
    "fitter.beta0s\n"
   ]
  },
  {
   "cell_type": "code",
   "execution_count": 3,
   "metadata": {},
   "outputs": [],
   "source": [
    "import matplotlib.pyplot as plt\n",
    "%matplotlib inline\n",
    "\n",
    "def plot_line(beta, beta0):\n",
    "    a = beta[0][0]\n",
    "    b = beta[1][0]\n",
    "    x = np.linspace(-1.5, 2.5, 30)\n",
    "    y = (-a*x-beta0)/b\n",
    "    plt.plot(x, y)\n"
   ]
  },
  {
   "cell_type": "code",
   "execution_count": 4,
   "metadata": {},
   "outputs": [
    {
     "data": {
      "image/png": "[encoded data removed]",
      "text/plain": [
       "<Figure size 432x288 with 1 Axes>"
      ]
     },
     "metadata": {},
     "output_type": "display_data"
    }
   ],
   "source": [
    "for beta, beta0 in zip(fitter.betas, fitter.beta0s):\n",
    "    plot_line(beta, beta0)\n",
    "    \n",
    "plt.plot(X[Y[:,0]==1, 0], X[Y[:,0]==1, 1], 'o')\n",
    "plt.plot(X[Y[:,0]==-1, 0], X[Y[:,0]==-1, 1], 'x')\n",
    "plt.axis('equal')\n",
    "plt.grid(True)\n",
    "\n",
    "plt.show()\n",
    "plt.close()"
   ]
  },
  {
   "cell_type": "code",
   "execution_count": 31,
   "metadata": {},
   "outputs": [
    {
     "name": "stdout",
     "output_type": "stream",
     "text": [
      "[array([[-2.73717429],\n",
      "       [-1.26800368]]), array([[-2.73717429],\n",
      "       [-1.26800368]]), array([[-2.73717429],\n",
      "       [-1.26800368]]), array([[-2.73717429],\n",
      "       [-1.26800368]]), array([[-2.73717429],\n",
      "       [-1.26800368]])]\n",
      "[-1.954890541630566, 1.045109458369434, -1.954890541630566, 1.045109458369434, 3.045109458369434]\n"
     ]
    },
    {
     "data": {
      "image/png": "[encoded data removed]",
      "text/plain": [
       "<Figure size 432x288 with 1 Axes>"
      ]
     },
     "metadata": {},
     "output_type": "display_data"
    }
   ],
   "source": [
    "fitter = SeparatingHyperplane(randomize_initials=True)\n",
    "beta, beta0 = fitter.fit(X, Y)\n",
    "\n",
    "print(fitter.betas)\n",
    "print(fitter.beta0s)\n",
    "\n",
    "for beta, beta0 in zip(fitter.betas, fitter.beta0s):\n",
    "    plot_line(beta, beta0)\n",
    "    \n",
    "plt.plot(X[Y[:,0]==1, 0], X[Y[:,0]==1, 1], 'o')\n",
    "plt.plot(X[Y[:,0]==-1, 0], X[Y[:,0]==-1, 1], 'x')\n",
    "plt.axis('equal')\n",
    "plt.grid(True)\n",
    "\n",
    "plt.show()"
   ]
  },
  {
   "cell_type": "code",
   "execution_count": null,
   "metadata": {},
   "outputs": [],
   "source": []
  }
 ],
 "metadata": {
  "kernelspec": {
   "display_name": "machine-learning-algorithms",
   "language": "python",
   "name": "machine-learning-algorithms"
  },
  "language_info": {
   "codemirror_mode": {
    "name": "ipython",
    "version": 3
   },
   "file_extension": ".py",
   "mimetype": "text/x-python",
   "name": "python",
   "nbconvert_exporter": "python",
   "pygments_lexer": "ipython3",
   "version": "3.6.5"
  }
 },
 "nbformat": 4,
 "nbformat_minor": 2
}
